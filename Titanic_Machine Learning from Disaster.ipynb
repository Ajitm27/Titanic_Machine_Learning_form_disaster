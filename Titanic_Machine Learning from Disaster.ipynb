{
 "cells": [
  {
   "cell_type": "code",
   "execution_count": 1,
   "metadata": {},
   "outputs": [
    {
     "name": "stdout",
     "output_type": "stream",
     "text": [
      "(418, 11)\n",
      "(891, 12)\n"
     ]
    }
   ],
   "source": [
    "from warnings import simplefilter\n",
    "simplefilter(action='ignore', category=FutureWarning)\n",
    "\n",
    "import pandas as pd\n",
    "\n",
    "test = pd.read_csv('test.csv')\n",
    "test_shape = test.shape\n",
    "train = pd.read_csv('train.csv')\n",
    "train_shape = train.shape\n",
    "print(test_shape)\n",
    "print(train_shape)"
   ]
  },
  {
   "cell_type": "code",
   "execution_count": 2,
   "metadata": {},
   "outputs": [
    {
     "data": {
      "text/html": [
       "<div>\n",
       "<style scoped>\n",
       "    .dataframe tbody tr th:only-of-type {\n",
       "        vertical-align: middle;\n",
       "    }\n",
       "\n",
       "    .dataframe tbody tr th {\n",
       "        vertical-align: top;\n",
       "    }\n",
       "\n",
       "    .dataframe thead th {\n",
       "        text-align: right;\n",
       "    }\n",
       "</style>\n",
       "<table border=\"1\" class=\"dataframe\">\n",
       "  <thead>\n",
       "    <tr style=\"text-align: right;\">\n",
       "      <th></th>\n",
       "      <th>PassengerId</th>\n",
       "      <th>Survived</th>\n",
       "      <th>Pclass</th>\n",
       "      <th>Name</th>\n",
       "      <th>Sex</th>\n",
       "      <th>Age</th>\n",
       "      <th>SibSp</th>\n",
       "      <th>Parch</th>\n",
       "      <th>Ticket</th>\n",
       "      <th>Fare</th>\n",
       "      <th>Cabin</th>\n",
       "      <th>Embarked</th>\n",
       "    </tr>\n",
       "  </thead>\n",
       "  <tbody>\n",
       "    <tr>\n",
       "      <th>0</th>\n",
       "      <td>1</td>\n",
       "      <td>0</td>\n",
       "      <td>3</td>\n",
       "      <td>Braund, Mr. Owen Harris</td>\n",
       "      <td>male</td>\n",
       "      <td>22.0</td>\n",
       "      <td>1</td>\n",
       "      <td>0</td>\n",
       "      <td>A/5 21171</td>\n",
       "      <td>7.2500</td>\n",
       "      <td>NaN</td>\n",
       "      <td>S</td>\n",
       "    </tr>\n",
       "    <tr>\n",
       "      <th>1</th>\n",
       "      <td>2</td>\n",
       "      <td>1</td>\n",
       "      <td>1</td>\n",
       "      <td>Cumings, Mrs. John Bradley (Florence Briggs Th...</td>\n",
       "      <td>female</td>\n",
       "      <td>38.0</td>\n",
       "      <td>1</td>\n",
       "      <td>0</td>\n",
       "      <td>PC 17599</td>\n",
       "      <td>71.2833</td>\n",
       "      <td>C85</td>\n",
       "      <td>C</td>\n",
       "    </tr>\n",
       "    <tr>\n",
       "      <th>2</th>\n",
       "      <td>3</td>\n",
       "      <td>1</td>\n",
       "      <td>3</td>\n",
       "      <td>Heikkinen, Miss. Laina</td>\n",
       "      <td>female</td>\n",
       "      <td>26.0</td>\n",
       "      <td>0</td>\n",
       "      <td>0</td>\n",
       "      <td>STON/O2. 3101282</td>\n",
       "      <td>7.9250</td>\n",
       "      <td>NaN</td>\n",
       "      <td>S</td>\n",
       "    </tr>\n",
       "    <tr>\n",
       "      <th>3</th>\n",
       "      <td>4</td>\n",
       "      <td>1</td>\n",
       "      <td>1</td>\n",
       "      <td>Futrelle, Mrs. Jacques Heath (Lily May Peel)</td>\n",
       "      <td>female</td>\n",
       "      <td>35.0</td>\n",
       "      <td>1</td>\n",
       "      <td>0</td>\n",
       "      <td>113803</td>\n",
       "      <td>53.1000</td>\n",
       "      <td>C123</td>\n",
       "      <td>S</td>\n",
       "    </tr>\n",
       "    <tr>\n",
       "      <th>4</th>\n",
       "      <td>5</td>\n",
       "      <td>0</td>\n",
       "      <td>3</td>\n",
       "      <td>Allen, Mr. William Henry</td>\n",
       "      <td>male</td>\n",
       "      <td>35.0</td>\n",
       "      <td>0</td>\n",
       "      <td>0</td>\n",
       "      <td>373450</td>\n",
       "      <td>8.0500</td>\n",
       "      <td>NaN</td>\n",
       "      <td>S</td>\n",
       "    </tr>\n",
       "  </tbody>\n",
       "</table>\n",
       "</div>"
      ],
      "text/plain": [
       "   PassengerId  Survived  Pclass  \\\n",
       "0            1         0       3   \n",
       "1            2         1       1   \n",
       "2            3         1       3   \n",
       "3            4         1       1   \n",
       "4            5         0       3   \n",
       "\n",
       "                                                Name     Sex   Age  SibSp  \\\n",
       "0                            Braund, Mr. Owen Harris    male  22.0      1   \n",
       "1  Cumings, Mrs. John Bradley (Florence Briggs Th...  female  38.0      1   \n",
       "2                             Heikkinen, Miss. Laina  female  26.0      0   \n",
       "3       Futrelle, Mrs. Jacques Heath (Lily May Peel)  female  35.0      1   \n",
       "4                           Allen, Mr. William Henry    male  35.0      0   \n",
       "\n",
       "   Parch            Ticket     Fare Cabin Embarked  \n",
       "0      0         A/5 21171   7.2500   NaN        S  \n",
       "1      0          PC 17599  71.2833   C85        C  \n",
       "2      0  STON/O2. 3101282   7.9250   NaN        S  \n",
       "3      0            113803  53.1000  C123        S  \n",
       "4      0            373450   8.0500   NaN        S  "
      ]
     },
     "execution_count": 2,
     "metadata": {},
     "output_type": "execute_result"
    }
   ],
   "source": [
    "train.head(5)"
   ]
  },
  {
   "cell_type": "markdown",
   "metadata": {},
   "source": [
    " ### Data Dictonry\n",
    " - PassengerID - A column added by Kaggle to identify each row and make submissions easier\n",
    " - Survived - Whether the passenger survived or not and the value we are predicting (0=No, 1=Yes)\n",
    " - Pclass - The class of the ticket the passenger purchased (1=1st, 2=2nd, 3=3rd)\n",
    " - Sex - The passenger's sex\n",
    " - Age - The passenger's age in years\n",
    " - SibSp - The number of siblings or spouses the passenger had aboard the Titanic\n",
    " - Parch - The number of parents or children the passenger had aboard the Titanic\n",
    " - Ticket - The passenger's ticket number\n",
    " - Fare - The fare the passenger paid\n",
    " - Cabin - The passenger's cabin number\n",
    " - Embarked - The port where the passenger embarked"
   ]
  },
  {
   "cell_type": "markdown",
   "metadata": {},
   "source": [
    "Anyone who has watched the movie Titanic would remember that women and children were given preference to lifeboats (as they were in real life). You would also remember the vast class disparity of the passengers.\n",
    "\n",
    "This indicates that Age, Sex, and PClass may be good predictors of survival. We'll start by exploring Sex and Pclass by visualizing the data."
   ]
  },
  {
   "cell_type": "code",
   "execution_count": 3,
   "metadata": {},
   "outputs": [
    {
     "data": {
      "text/plain": [
       "<Figure size 640x480 with 1 Axes>"
      ]
     },
     "metadata": {},
     "output_type": "display_data"
    }
   ],
   "source": [
    "import matplotlib.pyplot as plt\n",
    "\n",
    "sex_pivot = train.pivot_table(index='Sex', values='Survived')\n",
    "sex_pivot.plot.bar()\n",
    "plt.show()"
   ]
  },
  {
   "cell_type": "markdown",
   "metadata": {},
   "source": [
    "We can immediately see that females survived in much higher proportions than males did."
   ]
  },
  {
   "cell_type": "code",
   "execution_count": 4,
   "metadata": {},
   "outputs": [
    {
     "data": {
      "image/png": "[encoded data removed]",
      "text/plain": [
       "<Figure size 432x288 with 1 Axes>"
      ]
     },
     "metadata": {
      "needs_background": "light"
     },
     "output_type": "display_data"
    }
   ],
   "source": [
    "class_pivot = train.pivot_table(index='Pclass', values='Survived')\n",
    "class_pivot.plot.bar()\n",
    "plt.show()"
   ]
  },
  {
   "cell_type": "markdown",
   "metadata": {},
   "source": [
    "As expected we can see a correlation\n",
    "\n",
    "Let's take a look at the Age column using Series.describe()"
   ]
  },
  {
   "cell_type": "code",
   "execution_count": 5,
   "metadata": {},
   "outputs": [
    {
     "name": "stdout",
     "output_type": "stream",
     "text": [
      "count    714.000000\n",
      "mean      29.699118\n",
      "std       14.526497\n",
      "min        0.420000\n",
      "25%       20.125000\n",
      "50%       28.000000\n",
      "75%       38.000000\n",
      "max       80.000000\n",
      "Name: Age, dtype: float64\n"
     ]
    }
   ],
   "source": [
    "print(train['Age'].describe())"
   ]
  },
  {
   "cell_type": "markdown",
   "metadata": {},
   "source": [
    "The Age column contains numbers ranging from 0.42 to 80.0 (If you look at Kaggle's data page, it informs us that Age is fractional if the passenger is less than one). The other thing to note here is that there are 714 values in this column, fewer than the 891 rows we discovered that the train data set had earlier in this mission which indicates we have some missing values."
   ]
  },
  {
   "cell_type": "code",
   "execution_count": 6,
   "metadata": {},
   "outputs": [
    {
     "data": {
      "image/png": "[encoded data removed]",
      "text/plain": [
       "<Figure size 432x288 with 1 Axes>"
      ]
     },
     "metadata": {
      "needs_background": "light"
     },
     "output_type": "display_data"
    }
   ],
   "source": [
    "survived = train[train['Survived']== 1]\n",
    "died = train[train['Survived']== 0]\n",
    "survived['Age'].plot.hist(alpha=0.5, color = 'blue', bins=50)\n",
    "died['Age'].plot.hist(alpha=.4, color = 'red', bins=50)\n",
    "plt.legend(['Survived', 'Died'])\n",
    "plt.show()"
   ]
  },
  {
   "cell_type": "markdown",
   "metadata": {},
   "source": [
    "The relationship here is not simple, but we can see that in some age ranges more passengers survived - where the blue bars are higher than the red bars.\n",
    "\n",
    "To make it more useful in our model:\n",
    "we can separate this continuous feature into a categorical feature by dividing it into ranges.\n",
    "But before we modify this column, we have to be aware of two things.\n",
    " - Firstly, any change we make to the train data, we also need to make to the test data, otherwise we will be unable to use our model to make predictions. \n",
    " - Secondly, we need to handle the missing values we observed above."
   ]
  },
  {
   "cell_type": "code",
   "execution_count": 7,
   "metadata": {},
   "outputs": [
    {
     "data": {
      "image/png": "[encoded data removed]",
      "text/plain": [
       "<Figure size 432x288 with 1 Axes>"
      ]
     },
     "metadata": {
      "needs_background": "light"
     },
     "output_type": "display_data"
    }
   ],
   "source": [
    "def process_age(df, cut_points, label_names):\n",
    "    '''\n",
    "    impute missing age with -0.5\n",
    "    cut age column into segments\n",
    "    \n",
    "    Parameters:\n",
    "        df: dataframe\n",
    "        cut_points: bins for segments\n",
    "        label_names: labels for resultant bins\n",
    "        '''\n",
    "    df['Age'] = df['Age'].fillna(-.05) #so the function can categorize as missing\n",
    "    df['Age_categories'] = pd.cut(df['Age'], cut_points, labels = label_names)\n",
    "    return df\n",
    "\n",
    "cut_points = [-1, 0, 5, 12, 18, 35, 60, 100]\n",
    "label_names = ['Missing','Infant', 'Child', 'Teenager', 'Young Adult', 'Adult', 'Senior']\n",
    "\n",
    "train = process_age(train, cut_points, label_names)\n",
    "test = process_age(test, cut_points, label_names)\n",
    "\n",
    "pivot = train.pivot_table(index='Age_categories', values='Survived')\n",
    "pivot.plot.bar()\n",
    "plt.show()"
   ]
  },
  {
   "cell_type": "markdown",
   "metadata": {},
   "source": [
    "So far we have identified three columns that may be useful for predicting survival:\n",
    "\n",
    " - Sex\n",
    " - Pclass\n",
    " - Age, or more specifically our newly created Age_categories"
   ]
  },
  {
   "cell_type": "code",
   "execution_count": 8,
   "metadata": {},
   "outputs": [
    {
     "data": {
      "text/plain": [
       "3    491\n",
       "1    216\n",
       "2    184\n",
       "Name: Pclass, dtype: int64"
      ]
     },
     "execution_count": 8,
     "metadata": {},
     "output_type": "execute_result"
    }
   ],
   "source": [
    "train['Pclass'].value_counts()"
   ]
  },
  {
   "cell_type": "markdown",
   "metadata": {},
   "source": [
    "While the class of each passenger certainly has some sort of ordered relationship, the relationship between each class is not the same as the relationship between the numbers 1, 2, and 3. For instance, class 2 isn't \"worth\" double what class 1 is, and class 3 isn't \"worth\" triple what class 1 is.\n",
    "\n",
    "In order to remove this relationship, we can create dummy columns for each unique value in Pclass, sex, and Age Categories\n",
    " - We'll use pandas.get_dummies() function for that\n"
   ]
  },
  {
   "cell_type": "code",
   "execution_count": 9,
   "metadata": {},
   "outputs": [],
   "source": [
    "def create_dummies(df, column_name):\n",
    "    dummies = pd.get_dummies(df[column_name], prefix=column_name)\n",
    "    df = pd.concat([df,dummies],axis=1)\n",
    "    return df\n",
    "\n",
    "train = create_dummies(train, 'Pclass')\n",
    "test = create_dummies(test, 'Pclass')\n",
    "\n",
    "train = create_dummies(train, 'Sex')\n",
    "test = create_dummies(test, 'Sex')\n",
    "\n",
    "train = create_dummies(train, 'Age_categories')\n",
    "test = create_dummies(test, 'Age_categories')"
   ]
  },
  {
   "cell_type": "code",
   "execution_count": 10,
   "metadata": {},
   "outputs": [
    {
     "data": {
      "text/html": [
       "<div>\n",
       "<style scoped>\n",
       "    .dataframe tbody tr th:only-of-type {\n",
       "        vertical-align: middle;\n",
       "    }\n",
       "\n",
       "    .dataframe tbody tr th {\n",
       "        vertical-align: top;\n",
       "    }\n",
       "\n",
       "    .dataframe thead th {\n",
       "        text-align: right;\n",
       "    }\n",
       "</style>\n",
       "<table border=\"1\" class=\"dataframe\">\n",
       "  <thead>\n",
       "    <tr style=\"text-align: right;\">\n",
       "      <th></th>\n",
       "      <th>PassengerId</th>\n",
       "      <th>Survived</th>\n",
       "      <th>Pclass</th>\n",
       "      <th>Name</th>\n",
       "      <th>Sex</th>\n",
       "      <th>Age</th>\n",
       "      <th>SibSp</th>\n",
       "      <th>Parch</th>\n",
       "      <th>Ticket</th>\n",
       "      <th>Fare</th>\n",
       "      <th>...</th>\n",
       "      <th>Pclass_3</th>\n",
       "      <th>Sex_female</th>\n",
       "      <th>Sex_male</th>\n",
       "      <th>Age_categories_Missing</th>\n",
       "      <th>Age_categories_Infant</th>\n",
       "      <th>Age_categories_Child</th>\n",
       "      <th>Age_categories_Teenager</th>\n",
       "      <th>Age_categories_Young Adult</th>\n",
       "      <th>Age_categories_Adult</th>\n",
       "      <th>Age_categories_Senior</th>\n",
       "    </tr>\n",
       "  </thead>\n",
       "  <tbody>\n",
       "    <tr>\n",
       "      <th>0</th>\n",
       "      <td>1</td>\n",
       "      <td>0</td>\n",
       "      <td>3</td>\n",
       "      <td>Braund, Mr. Owen Harris</td>\n",
       "      <td>male</td>\n",
       "      <td>22.0</td>\n",
       "      <td>1</td>\n",
       "      <td>0</td>\n",
       "      <td>A/5 21171</td>\n",
       "      <td>7.2500</td>\n",
       "      <td>...</td>\n",
       "      <td>1</td>\n",
       "      <td>0</td>\n",
       "      <td>1</td>\n",
       "      <td>0</td>\n",
       "      <td>0</td>\n",
       "      <td>0</td>\n",
       "      <td>0</td>\n",
       "      <td>1</td>\n",
       "      <td>0</td>\n",
       "      <td>0</td>\n",
       "    </tr>\n",
       "    <tr>\n",
       "      <th>1</th>\n",
       "      <td>2</td>\n",
       "      <td>1</td>\n",
       "      <td>1</td>\n",
       "      <td>Cumings, Mrs. John Bradley (Florence Briggs Th...</td>\n",
       "      <td>female</td>\n",
       "      <td>38.0</td>\n",
       "      <td>1</td>\n",
       "      <td>0</td>\n",
       "      <td>PC 17599</td>\n",
       "      <td>71.2833</td>\n",
       "      <td>...</td>\n",
       "      <td>0</td>\n",
       "      <td>1</td>\n",
       "      <td>0</td>\n",
       "      <td>0</td>\n",
       "      <td>0</td>\n",
       "      <td>0</td>\n",
       "      <td>0</td>\n",
       "      <td>0</td>\n",
       "      <td>1</td>\n",
       "      <td>0</td>\n",
       "    </tr>\n",
       "    <tr>\n",
       "      <th>2</th>\n",
       "      <td>3</td>\n",
       "      <td>1</td>\n",
       "      <td>3</td>\n",
       "      <td>Heikkinen, Miss. Laina</td>\n",
       "      <td>female</td>\n",
       "      <td>26.0</td>\n",
       "      <td>0</td>\n",
       "      <td>0</td>\n",
       "      <td>STON/O2. 3101282</td>\n",
       "      <td>7.9250</td>\n",
       "      <td>...</td>\n",
       "      <td>1</td>\n",
       "      <td>1</td>\n",
       "      <td>0</td>\n",
       "      <td>0</td>\n",
       "      <td>0</td>\n",
       "      <td>0</td>\n",
       "      <td>0</td>\n",
       "      <td>1</td>\n",
       "      <td>0</td>\n",
       "      <td>0</td>\n",
       "    </tr>\n",
       "    <tr>\n",
       "      <th>3</th>\n",
       "      <td>4</td>\n",
       "      <td>1</td>\n",
       "      <td>1</td>\n",
       "      <td>Futrelle, Mrs. Jacques Heath (Lily May Peel)</td>\n",
       "      <td>female</td>\n",
       "      <td>35.0</td>\n",
       "      <td>1</td>\n",
       "      <td>0</td>\n",
       "      <td>113803</td>\n",
       "      <td>53.1000</td>\n",
       "      <td>...</td>\n",
       "      <td>0</td>\n",
       "      <td>1</td>\n",
       "      <td>0</td>\n",
       "      <td>0</td>\n",
       "      <td>0</td>\n",
       "      <td>0</td>\n",
       "      <td>0</td>\n",
       "      <td>1</td>\n",
       "      <td>0</td>\n",
       "      <td>0</td>\n",
       "    </tr>\n",
       "    <tr>\n",
       "      <th>4</th>\n",
       "      <td>5</td>\n",
       "      <td>0</td>\n",
       "      <td>3</td>\n",
       "      <td>Allen, Mr. William Henry</td>\n",
       "      <td>male</td>\n",
       "      <td>35.0</td>\n",
       "      <td>0</td>\n",
       "      <td>0</td>\n",
       "      <td>373450</td>\n",
       "      <td>8.0500</td>\n",
       "      <td>...</td>\n",
       "      <td>1</td>\n",
       "      <td>0</td>\n",
       "      <td>1</td>\n",
       "      <td>0</td>\n",
       "      <td>0</td>\n",
       "      <td>0</td>\n",
       "      <td>0</td>\n",
       "      <td>1</td>\n",
       "      <td>0</td>\n",
       "      <td>0</td>\n",
       "    </tr>\n",
       "  </tbody>\n",
       "</table>\n",
       "<p>5 rows × 25 columns</p>\n",
       "</div>"
      ],
      "text/plain": [
       "   PassengerId  Survived  Pclass  \\\n",
       "0            1         0       3   \n",
       "1            2         1       1   \n",
       "2            3         1       3   \n",
       "3            4         1       1   \n",
       "4            5         0       3   \n",
       "\n",
       "                                                Name     Sex   Age  SibSp  \\\n",
       "0                            Braund, Mr. Owen Harris    male  22.0      1   \n",
       "1  Cumings, Mrs. John Bradley (Florence Briggs Th...  female  38.0      1   \n",
       "2                             Heikkinen, Miss. Laina  female  26.0      0   \n",
       "3       Futrelle, Mrs. Jacques Heath (Lily May Peel)  female  35.0      1   \n",
       "4                           Allen, Mr. William Henry    male  35.0      0   \n",
       "\n",
       "   Parch            Ticket     Fare  ... Pclass_3 Sex_female Sex_male  \\\n",
       "0      0         A/5 21171   7.2500  ...        1          0        1   \n",
       "1      0          PC 17599  71.2833  ...        0          1        0   \n",
       "2      0  STON/O2. 3101282   7.9250  ...        1          1        0   \n",
       "3      0            113803  53.1000  ...        0          1        0   \n",
       "4      0            373450   8.0500  ...        1          0        1   \n",
       "\n",
       "   Age_categories_Missing  Age_categories_Infant  Age_categories_Child  \\\n",
       "0                       0                      0                     0   \n",
       "1                       0                      0                     0   \n",
       "2                       0                      0                     0   \n",
       "3                       0                      0                     0   \n",
       "4                       0                      0                     0   \n",
       "\n",
       "   Age_categories_Teenager  Age_categories_Young Adult  Age_categories_Adult  \\\n",
       "0                        0                           1                     0   \n",
       "1                        0                           0                     1   \n",
       "2                        0                           1                     0   \n",
       "3                        0                           1                     0   \n",
       "4                        0                           1                     0   \n",
       "\n",
       "   Age_categories_Senior  \n",
       "0                      0  \n",
       "1                      0  \n",
       "2                      0  \n",
       "3                      0  \n",
       "4                      0  \n",
       "\n",
       "[5 rows x 25 columns]"
      ]
     },
     "execution_count": 10,
     "metadata": {},
     "output_type": "execute_result"
    }
   ],
   "source": [
    "train.head()"
   ]
  },
  {
   "cell_type": "markdown",
   "metadata": {},
   "source": [
    "Now that our data has been prepared, we are ready to train our first model. The first model we will use is called Logistic Regression"
   ]
  },
  {
   "cell_type": "code",
   "execution_count": 11,
   "metadata": {},
   "outputs": [
    {
     "data": {
      "text/plain": [
       "LogisticRegression(C=1.0, class_weight=None, dual=False, fit_intercept=True,\n",
       "                   intercept_scaling=1, l1_ratio=None, max_iter=100,\n",
       "                   multi_class='warn', n_jobs=None, penalty='l2',\n",
       "                   random_state=None, solver='warn', tol=0.0001, verbose=0,\n",
       "                   warm_start=False)"
      ]
     },
     "execution_count": 11,
     "metadata": {},
     "output_type": "execute_result"
    }
   ],
   "source": [
    "from sklearn.linear_model import LogisticRegression\n",
    "\n",
    "#Create LogisticRegression object\n",
    "lr = LogisticRegression()\n",
    "\n",
    "#Fitting Model on our training dataset\n",
    "\n",
    "columns = ['Pclass_1', 'Pclass_2', 'Pclass_3', 'Sex_female', 'Sex_male',\n",
    "       'Age_categories_Missing','Age_categories_Infant',\n",
    "       'Age_categories_Child', 'Age_categories_Teenager',\n",
    "       'Age_categories_Young Adult', 'Age_categories_Adult',\n",
    "       'Age_categories_Senior']\n",
    "\n",
    "lr.fit(train[columns], train['Survived'])\n"
   ]
  },
  {
   "cell_type": "markdown",
   "metadata": {},
   "source": [
    "### Testing Accuracy\n",
    "We do have a test dataframe that we could use to make predictions. We could make predictions on that data set, but because it doesn't have the Survived column.\n",
    "We can split our train dataframe into two:\n",
    "\n",
    " - One part to train our model on (often 80% of the observations)\n",
    " - One part to make predictions with and test our model (often 20% of the observations)\n",
    " \n",
    "And to avoid confusion, from here on, we're going to call the actual **'test'** data **holdout** data\n",
    "\n",
    "The scikit-learn library has a handy model_selection.train_test_split() function that we can use to split our data.\n",
    "\n",
    "![train_test_split](kaggle_train_test_split.svg)"
   ]
  },
  {
   "cell_type": "code",
   "execution_count": 12,
   "metadata": {},
   "outputs": [],
   "source": [
    "holdout = test # from now on we will refer to this dataframe as the holdout data\n",
    "\n",
    "from sklearn.model_selection import train_test_split\n",
    "\n",
    "columns = ['Pclass_1', 'Pclass_2', 'Pclass_3', 'Sex_female', 'Sex_male',\n",
    "       'Age_categories_Missing','Age_categories_Infant',\n",
    "       'Age_categories_Child', 'Age_categories_Teenager',\n",
    "       'Age_categories_Young Adult', 'Age_categories_Adult',\n",
    "       'Age_categories_Senior']\n",
    "\n",
    "all_x = train[columns]\n",
    "all_y = train['Survived']\n",
    "\n",
    "train_x, test_x, train_y, test_y = train_test_split(all_x, all_y, test_size=0.20, random_state=0)"
   ]
  },
  {
   "cell_type": "markdown",
   "metadata": {},
   "source": [
    "Now that we have our data split into train and test sets, we can fit our model again on our training set, and then use that model to make predictions on our test set."
   ]
  },
  {
   "cell_type": "code",
   "execution_count": 13,
   "metadata": {},
   "outputs": [
    {
     "name": "stdout",
     "output_type": "stream",
     "text": [
      "0.8100558659217877\n"
     ]
    }
   ],
   "source": [
    "from sklearn.metrics import accuracy_score\n",
    "ir = LogisticRegression()\n",
    "lr.fit(train_x, train_y)\n",
    "predictions = lr.predict(test_x)\n",
    "accuracy = accuracy_score(test_y, predictions)\n",
    "print(accuracy)\n"
   ]
  },
  {
   "cell_type": "markdown",
   "metadata": {},
   "source": [
    "Our model has an accuracy score of 81.0% when tested against our 20% test set. Given that this data set is quite small, there is a good chance that our model is overfitting, and will not perform as well on totally unseen data.\n",
    "\n",
    "To give us a better understanding of the real performance of our model, we can use a technique called cross validation to train and test our model on different splits of our data, and then average the accuracy scores.\n",
    " - We'll use k-fold cross validation\n",
    " - We will use scikit-learn's model_selection.cross_val_score() function to automate the process."
   ]
  },
  {
   "cell_type": "code",
   "execution_count": 14,
   "metadata": {},
   "outputs": [
    {
     "name": "stdout",
     "output_type": "stream",
     "text": [
      "[0.8        0.81111111 0.7752809  0.87640449 0.80898876 0.78651685\n",
      " 0.76404494 0.76404494 0.83146067 0.80681818]\n",
      "0.8024670865963002\n"
     ]
    }
   ],
   "source": [
    "from sklearn.model_selection import cross_val_score\n",
    "import numpy as np\n",
    "ir= LogisticRegression()\n",
    "scores = cross_val_score(ir, all_x, all_y, cv=10)\n",
    "accuracy = np.mean(scores)\n",
    "print(scores)\n",
    "print(accuracy)"
   ]
  },
  {
   "cell_type": "markdown",
   "metadata": {},
   "source": [
    "**From the results of our k-fold validation, you can see that the accuracy number varies with each fold - ranging between 76.4% and 87.6% and our average accuracy score was 80.2%**"
   ]
  },
  {
   "cell_type": "markdown",
   "metadata": {},
   "source": [
    "### Room for improvement\n",
    "Improving the features:\n",
    " - Feature Engineering: Create new features from the existing data.\n",
    " - Feature Selection: Select the most relevant features to reduce noise and overfitting.\n",
    " \n",
    "Improving the model:\n",
    " - Model Selection: Try a variety of models to improve performance.\n",
    " - Hyperparameter Optimization: Optimize the settings within each particular machine learning model."
   ]
  },
  {
   "cell_type": "markdown",
   "metadata": {},
   "source": [
    "## Feature Selection\n",
    "We'll start by looking at feature selection. Feature selection is important because it helps to exclude features which are not good predictors, or features that are closely related to each other. Both of these will cause our model to be less accurate\n",
    "\n",
    "Here is the list of remaining columns are haven't looked at yet:\n",
    "\n",
    " - SibSp - The number of siblings or spouses the passenger had aboard the Titanic\n",
    " - Parch - The number of parents or children the passenger had aboard the Titanic\n",
    " - Ticket - The passenger's ticket number\n",
    " - Fare - The fair the passenger paid\n",
    " - Cabin - The passengers cabin number\n",
    " - Embarked - The port where the passenger embarked (C=Cherbourg, Q=Queenstown, S=Southampton)"
   ]
  },
  {
   "cell_type": "code",
   "execution_count": 15,
   "metadata": {},
   "outputs": [
    {
     "name": "stdout",
     "output_type": "stream",
     "text": [
      "             SibSp       Parch Ticket        Fare        Cabin Embarked\n",
      "count   891.000000  891.000000    891  891.000000          204      889\n",
      "unique         NaN         NaN    681         NaN          147        3\n",
      "top            NaN         NaN   1601         NaN  C23 C25 C27        S\n",
      "freq           NaN         NaN      7         NaN            4      644\n",
      "mean      0.523008    0.381594    NaN   32.204208          NaN      NaN\n",
      "std       1.102743    0.806057    NaN   49.693429          NaN      NaN\n",
      "min       0.000000    0.000000    NaN    0.000000          NaN      NaN\n",
      "50%       0.000000    0.000000    NaN   14.454200          NaN      NaN\n",
      "max       8.000000    6.000000    NaN  512.329200          NaN      NaN\n"
     ]
    }
   ],
   "source": [
    "# Using Dataframe.describe() method to give us some more information\n",
    "\n",
    "columns=['SibSp', 'Parch', 'Ticket', 'Fare', 'Cabin', 'Embarked']\n",
    "print(train[columns].describe(include='all', percentiles=[]))"
   ]
  },
  {
   "cell_type": "markdown",
   "metadata": {},
   "source": [
    " - **Cabin:** has values for only 204 of the 891 rows, and even then most of the values are unique, so for now we will leave this column\n",
    " - **Embarked:** looks to be a standard categorical column with 3 unique values, much like PClass was, except that there are two missing values. We can easily fill these two missing values with the most common value, \"S\" which occurs 644 times.\n",
    " - **SibSp:** has values between 0-8\n",
    " - **Parch:** between 0-6\n",
    " - **Fare:** is on a different scale, with values ranging from 0-512, holdout set has missing values (we'll impute them with mean)\n",
    "     - In order to make sure these values are equally weighted within our model, we'll need to **rescale** the data"
   ]
  },
  {
   "cell_type": "code",
   "execution_count": 16,
   "metadata": {},
   "outputs": [],
   "source": [
    "#Using the preprocessing.minmax_scale() function will allows us to rescale our data:\n",
    "\n",
    "from sklearn.preprocessing import minmax_scale\n",
    "columns = [\"SibSp\",\"Parch\",\"Fare\"]\n",
    "\n",
    "for col in columns:\n",
    "    train[col + '_scaled'] = minmax_scale(train[col])\n",
    "    holdout[col + '_scaled'] = minmax_scale(holdout[col])\n",
    "    \n",
    "# Impute missing values\n",
    "\n",
    "holdout['Fare'] = holdout['Fare'].fillna(train['Fare'].mean())\n",
    "\n",
    "train['Embarked'] = train['Embarked'].fillna('S')\n",
    "holdout['Embarked'] = holdout['Embarked'].fillna('S')\n",
    "\n",
    "# Create dummines for Embarked\n",
    "\n",
    "train = create_dummies(train, 'Embarked')\n",
    "holdout = create_dummies(holdout, 'Embarked')"
   ]
  },
  {
   "cell_type": "markdown",
   "metadata": {},
   "source": [
    "In order to select the best-performing features:\n",
    "\n",
    " - Find features are relevant to our outcome (survival of each passenger)\n",
    " - training a logistic regression model using all of our features, and then looking at the coefficients of each feature"
   ]
  },
  {
   "cell_type": "code",
   "execution_count": 17,
   "metadata": {},
   "outputs": [
    {
     "data": {
      "image/png": "[encoded data removed]",
      "text/plain": [
       "<Figure size 432x288 with 1 Axes>"
      ]
     },
     "metadata": {
      "needs_background": "light"
     },
     "output_type": "display_data"
    }
   ],
   "source": [
    "columns = ['Age_categories_Missing', 'Age_categories_Infant',\n",
    "       'Age_categories_Child', 'Age_categories_Teenager',\n",
    "       'Age_categories_Young Adult', 'Age_categories_Adult',\n",
    "       'Age_categories_Senior', 'Pclass_1', 'Pclass_2', 'Pclass_3',\n",
    "       'Sex_female', 'Sex_male', 'Embarked_C', 'Embarked_Q', 'Embarked_S',\n",
    "       'SibSp_scaled', 'Parch_scaled', 'Fare_scaled']\n",
    "\n",
    "lr = LogisticRegression()\n",
    "lr.fit(train[columns], train['Survived'])\n",
    "\n",
    "coefficients = lr.coef_\n",
    "\n",
    "feature_importance = pd.Series(coefficients[0], index=train[columns].columns)\n",
    "feature_importance.plot.barh()\n",
    "plt.show()"
   ]
  },
  {
   "cell_type": "code",
   "execution_count": 18,
   "metadata": {},
   "outputs": [
    {
     "data": {
      "image/png": "[encoded data removed]",
      "text/plain": [
       "<Figure size 432x288 with 1 Axes>"
      ]
     },
     "metadata": {
      "needs_background": "light"
     },
     "output_type": "display_data"
    }
   ],
   "source": [
    "#Sort and turing all positive for easy interpretation\n",
    "ordered_feature_importance = feature_importance.abs().sort_values()\n",
    "ordered_feature_importance.plot.barh()\n",
    "plt.show()"
   ]
  },
  {
   "cell_type": "markdown",
   "metadata": {},
   "source": [
    "We'll train a new model with the **top 8** scores and check our accuracy using cross validation"
   ]
  },
  {
   "cell_type": "code",
   "execution_count": 19,
   "metadata": {},
   "outputs": [
    {
     "name": "stdout",
     "output_type": "stream",
     "text": [
      "0.8148019521053229\n"
     ]
    }
   ],
   "source": [
    "columns = ['Age_categories_Infant', 'SibSp_scaled', 'Sex_female', 'Sex_male',\n",
    "       'Pclass_1', 'Pclass_3', 'Age_categories_Senior', 'Parch_scaled']\n",
    "\n",
    "all_x = train[columns]\n",
    "all_y = train['Survived']\n",
    "\n",
    "lr = LogisticRegression()\n",
    "scores = cross_val_score(lr, all_x, all_y, cv=10)\n",
    "accuracy = scores.mean()\n",
    "print(accuracy)"
   ]
  },
  {
   "cell_type": "markdown",
   "metadata": {},
   "source": [
    "The cross validation score of **81.48%** is marginally higher than the cross validation score for the model we created with 3 features, which had a score of **80.2%**."
   ]
  },
  {
   "cell_type": "markdown",
   "metadata": {},
   "source": [
    "## Feature Engineering\n",
    "\n",
    " - Creating new features from your existing data\n",
    "     - Binning Fare column\n",
    "     - Extracting Data form Name and Cabin (text columns)"
   ]
  },
  {
   "cell_type": "code",
   "execution_count": 20,
   "metadata": {},
   "outputs": [
    {
     "data": {
      "image/png": "[encoded data removed]",
      "text/plain": [
       "<Figure size 432x288 with 1 Axes>"
      ]
     },
     "metadata": {
      "needs_background": "light"
     },
     "output_type": "display_data"
    }
   ],
   "source": [
    "survived = train[train['Survived']== 1]\n",
    "died = train[train['Survived']== 0]\n",
    "survived['Fare'].plot.hist(alpha=0.5, color = 'blue', bins=20)\n",
    "died['Fare'].plot.hist(alpha=.4, color = 'red', bins=20)\n",
    "plt.legend(['Survived', 'Died'])\n",
    "plt.xlim(0, 140)\n",
    "plt.show()"
   ]
  },
  {
   "cell_type": "markdown",
   "metadata": {},
   "source": [
    "Looking at the values, it looks like we can separate the feature into four bins to capture some patterns from the data:\n",
    "\n",
    " - 0-12\n",
    " - 12-50\n",
    " - 50-100\n",
    " - 100+"
   ]
  },
  {
   "cell_type": "code",
   "execution_count": 21,
   "metadata": {},
   "outputs": [
    {
     "data": {
      "image/png": "[encoded data removed]",
      "text/plain": [
       "<Figure size 432x288 with 1 Axes>"
      ]
     },
     "metadata": {
      "needs_background": "light"
     },
     "output_type": "display_data"
    }
   ],
   "source": [
    "def process_fare(df, cut_points, label_names):\n",
    "    '''\n",
    "    cut age column into segments\n",
    "    \n",
    "    Parameters:\n",
    "        df: dataframe\n",
    "        cut_points: bins for segments\n",
    "        label_names: labels for resultant bins\n",
    "        '''\n",
    "    df['Fare_categories'] = pd.cut(df['Fare'], cut_points, labels = label_names)\n",
    "    return df\n",
    "\n",
    "cut_points = [0, 12, 50, 100, 1000]\n",
    "label_names = ['0-12','12-50', '50-100', '100+']\n",
    "\n",
    "train = process_fare(train, cut_points, label_names)\n",
    "holdout = process_fare(holdout, cut_points, label_names)\n",
    "\n",
    "train = create_dummies(train, 'Fare_categories')\n",
    "holdout = create_dummies(holdout, 'Fare_categories')\n",
    "\n",
    "pivot = train.pivot_table(index='Fare_categories', values='Survived')\n",
    "pivot.plot.bar()\n",
    "plt.show()"
   ]
  },
  {
   "cell_type": "code",
   "execution_count": 22,
   "metadata": {},
   "outputs": [
    {
     "name": "stdout",
     "output_type": "stream",
     "text": [
      "0     NaN\n",
      "1     C85\n",
      "2     NaN\n",
      "3    C123\n",
      "4     NaN\n",
      "Name: Cabin, dtype: object\n"
     ]
    }
   ],
   "source": [
    "print(train.head()[\"Cabin\"])"
   ]
  },
  {
   "cell_type": "code",
   "execution_count": 23,
   "metadata": {},
   "outputs": [
    {
     "name": "stdout",
     "output_type": "stream",
     "text": [
      "C    59\n",
      "B    47\n",
      "D    33\n",
      "E    32\n",
      "A    15\n",
      "F    13\n",
      "G     4\n",
      "T     1\n",
      "Name: Cabin, dtype: int64\n"
     ]
    },
    {
     "data": {
      "text/plain": [
       "<matplotlib.axes._subplots.AxesSubplot at 0x2046ea865f8>"
      ]
     },
     "execution_count": 23,
     "metadata": {},
     "output_type": "execute_result"
    },
    {
     "data": {
      "image/png": "[encoded data removed]",
      "text/plain": [
       "<Figure size 432x288 with 1 Axes>"
      ]
     },
     "metadata": {
      "needs_background": "light"
     },
     "output_type": "display_data"
    }
   ],
   "source": [
    "print(train['Cabin'].str[0].value_counts())\n",
    "train['Cabin'].str[0].value_counts().plot.bar()"
   ]
  },
  {
   "cell_type": "markdown",
   "metadata": {},
   "source": [
    "\n",
    "It seems like cabin number of each passenger will be reasonably unique to each passaner the letter is representative of the type of cabin, which could be useful data for us. We will use the pandas Series.str accessor to subset the Cabin type."
   ]
  },
  {
   "cell_type": "markdown",
   "metadata": {},
   "source": [
    "Looking at the Name column, There is a title like **'Mr'** or **'Mrs'** within each, as well as some less common titles, like the **'Countess'** from the final row of our table above`\n",
    "we can categorize these into six types:\n",
    "\n",
    " - Mr\n",
    " - Mrs\n",
    " - Master\n",
    " - Miss\n",
    " - Officer\n",
    " - Royalty"
   ]
  },
  {
   "cell_type": "markdown",
   "metadata": {},
   "source": [
    "We can use the **Series.str.extract** method and a regular expression to extract the title from each name and then use the **Series.map()** method and a predefined dictionary to simplify the titles."
   ]
  },
  {
   "cell_type": "code",
   "execution_count": 25,
   "metadata": {},
   "outputs": [],
   "source": [
    "#Defining dictionary for titles\n",
    "\n",
    "titles = {\n",
    "    \"Mr\" :         \"Mr\",\n",
    "    \"Mme\":         \"Mrs\",\n",
    "    \"Ms\":          \"Mrs\",\n",
    "    \"Mrs\" :        \"Mrs\",\n",
    "    \"Master\" :     \"Master\",\n",
    "    \"Mlle\":        \"Miss\",\n",
    "    \"Miss\" :       \"Miss\",\n",
    "    \"Capt\":        \"Officer\",\n",
    "    \"Col\":         \"Officer\",\n",
    "    \"Major\":       \"Officer\",\n",
    "    \"Dr\":          \"Officer\",\n",
    "    \"Rev\":         \"Officer\",\n",
    "    \"Jonkheer\":    \"Royalty\",\n",
    "    \"Don\":         \"Royalty\",\n",
    "    \"Sir\" :        \"Royalty\",\n",
    "    \"Countess\":    \"Royalty\",\n",
    "    \"Dona\":        \"Royalty\",\n",
    "    \"Lady\" :       \"Royalty\"\n",
    "}\n",
    "\n",
    "#Extracting Titles from Name and Mapping to categorize in 6 categories\n",
    "extracted_titles = train['Name'].str.extract(' ([A-Za-z]+)\\.', expand=False)\n",
    "train['Title'] = extracted_titles.map(titles)\n",
    "\n",
    "extracted_titles = holdout['Name'].str.extract(' ([A-Za-z]+)\\.', expand=False)\n",
    "holdout['Title'] = extracted_titles.map(titles)\n",
    "\n",
    "#Extracting Cabin Type and Filling missing with 'Unknown'\n",
    "\n",
    "train['Cabin_type'] = train['Cabin'].str[0]\n",
    "train['Cabin_type'] = train['Cabin_type'].fillna('Unknown')\n",
    "\n",
    "holdout['Cabin_type'] = holdout['Cabin'].str[0]\n",
    "holdout['Cabin_type'] = holdout['Cabin_type'].fillna('Unknown')\n",
    "\n",
    "for column in ['Title', 'Cabin_type']:\n",
    "    train = create_dummies(train, column)\n",
    "    holdout = create_dummies(holdout, column)"
   ]
  },
  {
   "cell_type": "markdown",
   "metadata": {},
   "source": [
    "We now have 34 possible feature columns we can use to train our model.\n",
    "One thing to be aware of is **collinearity**.\n",
    " - We can spot collinearity by plotting correlations between each pair of variables in a **heatmap**."
   ]
  },
  {
   "cell_type": "code",
   "execution_count": 27,
   "metadata": {},
   "outputs": [
    {
     "data": {
      "image/png": "[encoded data removed]",
      "text/plain": [
       "<Figure size 792x648 with 2 Axes>"
      ]
     },
     "metadata": {},
     "output_type": "display_data"
    }
   ],
   "source": [
    "import numpy as np\n",
    "import seaborn as sns\n",
    "\n",
    "def plot_correlation_heatmap(df):\n",
    "    corr = df.corr()\n",
    "    \n",
    "    sns.set(style='white')\n",
    "    mask = np.zeros_like(corr, dtype=np.bool)\n",
    "    mask[np.triu_indices_from(mask)] = True\n",
    "    \n",
    "    f, ax = plt.subplots(figsize=(11,9))\n",
    "    cmap = sns.diverging_palette(220, 10, as_cmap=True)\n",
    "    \n",
    "    sns.heatmap(corr, mask=mask, cmap=cmap, vmax=.3, center=0,\n",
    "               square=True, linewidth=.5, cbar_kws={'shrink': .5})\n",
    "    plt.show()\n",
    "    \n",
    "    \n",
    "columns = ['Age_categories_Missing', 'Age_categories_Infant',\n",
    "       'Age_categories_Child', 'Age_categories_Teenager',\n",
    "       'Age_categories_Young Adult', 'Age_categories_Adult',\n",
    "       'Age_categories_Senior', 'Pclass_1', 'Pclass_2', 'Pclass_3',\n",
    "       'Sex_female', 'Sex_male', 'Embarked_C', 'Embarked_Q', 'Embarked_S',\n",
    "       'SibSp_scaled', 'Parch_scaled', 'Fare_categories_0-12',\n",
    "       'Fare_categories_12-50','Fare_categories_50-100', 'Fare_categories_100+',\n",
    "       'Title_Master', 'Title_Miss', 'Title_Mr','Title_Mrs', 'Title_Officer',\n",
    "       'Title_Royalty', 'Cabin_type_A','Cabin_type_B', 'Cabin_type_C', 'Cabin_type_D',\n",
    "       'Cabin_type_E','Cabin_type_F', 'Cabin_type_G', 'Cabin_type_T', 'Cabin_type_Unknown']\n",
    "\n",
    "plot_correlation_heatmap(train[columns])"
   ]
  },
  {
   "cell_type": "markdown",
   "metadata": {},
   "source": [
    " - We can see that there is a high correlation between **Sex_female/Sex_male** and **Title_Miss/Title_Mr/Title_Mrs.** \n",
    "     - We will remove the columns Sex_female and Sex_male\n",
    " - We will also remove one of each of our dummy variables to reduce the collinearity in each:\n",
    "     - Pclass_2\n",
    "     - Age_categories_Teenager\n",
    "     - Fare_categories_12-50\n",
    "     - Title_Master\n",
    "     - Cabin_type_A"
   ]
  },
  {
   "cell_type": "markdown",
   "metadata": {},
   "source": [
    "We will be using the feature_selection.RFECV class which performs recursive feature elimination with cross-validation  to select the most relevent features for our model"
   ]
  },
  {
   "cell_type": "code",
   "execution_count": 28,
   "metadata": {},
   "outputs": [],
   "source": [
    "from sklearn.feature_selection import RFECV\n",
    "\n",
    "columns = ['Age_categories_Missing', 'Age_categories_Infant',\n",
    "       'Age_categories_Child', 'Age_categories_Young Adult',\n",
    "       'Age_categories_Adult', 'Age_categories_Senior', 'Pclass_1', 'Pclass_3',\n",
    "       'Embarked_C', 'Embarked_Q', 'Embarked_S', 'SibSp_scaled',\n",
    "       'Parch_scaled', 'Fare_categories_0-12', 'Fare_categories_50-100',\n",
    "       'Fare_categories_100+', 'Title_Miss', 'Title_Mr', 'Title_Mrs',\n",
    "       'Title_Officer', 'Title_Royalty', 'Cabin_type_B', 'Cabin_type_C',\n",
    "       'Cabin_type_D', 'Cabin_type_E', 'Cabin_type_F', 'Cabin_type_G',\n",
    "       'Cabin_type_T', 'Cabin_type_Unknown']\n",
    "\n",
    "all_x = train[columns]\n",
    "all_y = train['Survived']\n",
    "\n",
    "lr= LogisticRegression()\n",
    "selector = RFECV(lr, cv=10)\n",
    "selector.fit(all_x, all_y)\n",
    "\n",
    "optimized_columns = all_x.columns[selector.support_]"
   ]
  },
  {
   "cell_type": "code",
   "execution_count": 29,
   "metadata": {},
   "outputs": [
    {
     "name": "stdout",
     "output_type": "stream",
     "text": [
      "Index(['Age_categories_Infant', 'Age_categories_Adult',\n",
      "       'Age_categories_Senior', 'Pclass_1', 'Pclass_3', 'Embarked_C',\n",
      "       'Embarked_Q', 'SibSp_scaled', 'Parch_scaled', 'Fare_categories_50-100',\n",
      "       'Fare_categories_100+', 'Title_Miss', 'Title_Mr', 'Title_Mr',\n",
      "       'Title_Mrs', 'Title_Mrs', 'Title_Officer', 'Title_Officer',\n",
      "       'Title_Royalty', 'Title_Royalty', 'Cabin_type_B', 'Cabin_type_D',\n",
      "       'Cabin_type_D', 'Cabin_type_E', 'Cabin_type_E', 'Cabin_type_G',\n",
      "       'Cabin_type_G', 'Cabin_type_Unknown'],\n",
      "      dtype='object')\n"
     ]
    }
   ],
   "source": [
    "print(optimized_columns)"
   ]
  },
  {
   "cell_type": "markdown",
   "metadata": {},
   "source": [
    "Let's train a model using cross validation using these columns and check the score"
   ]
  },
  {
   "cell_type": "code",
   "execution_count": 32,
   "metadata": {},
   "outputs": [
    {
     "name": "stdout",
     "output_type": "stream",
     "text": [
      "0.821644251503802\n"
     ]
    }
   ],
   "source": [
    "all_x = train[optimized_columns]\n",
    "all_y = train['Survived']\n",
    "lr = LogisticRegression()\n",
    "scores = cross_val_score(lr, all_x, all_y, cv=10)\n",
    "accuracy = scores.mean()\n",
    "print(accuracy)"
   ]
  },
  {
   "cell_type": "markdown",
   "metadata": {},
   "source": [
    "This model scores **82.3%**, a modest improvement compared to the **81.5%** from our earlier model."
   ]
  },
  {
   "cell_type": "code",
   "execution_count": null,
   "metadata": {},
   "outputs": [],
   "source": []
  }
 ],
 "metadata": {
  "kernelspec": {
   "display_name": "Python 3",
   "language": "python",
   "name": "python3"
  },
  "language_info": {
   "codemirror_mode": {
    "name": "ipython",
    "version": 3
   },
   "file_extension": ".py",
   "mimetype": "text/x-python",
   "name": "python",
   "nbconvert_exporter": "python",
   "pygments_lexer": "ipython3",
   "version": "3.7.3"
  }
 },
 "nbformat": 4,
 "nbformat_minor": 2
}
